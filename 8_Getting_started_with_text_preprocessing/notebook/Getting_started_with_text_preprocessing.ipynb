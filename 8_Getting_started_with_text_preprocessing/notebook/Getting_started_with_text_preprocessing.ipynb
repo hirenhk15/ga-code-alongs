{
 "cells": [
  {
   "cell_type": "markdown",
   "metadata": {},
   "source": [
    "## Text Data Preprocessing\n",
    "\n",
    "In any machine learning task, cleaning or preprocessing the data is as important as model building if not more. And when it comes to unstructured data like text, this process is even more important.\n",
    "\n",
    "Objective of this notebook is to understand the various text preprocessing steps with code examples.\n",
    "\n",
    "Some of the common text preprocessing / cleaning steps are:\n",
    "\n",
    "* Lower casing\n",
    "* Removal of Punctuations\n",
    "* Removal of Stopwords\n",
    "* Removal of Frequent words\n",
    "* Removal of Rare words\n",
    "* Stemming\n",
    "* Lemmatization\n",
    "* Removal of emojis\n",
    "* Removal of URLs\n",
    "\n",
    "\n",
    "So these are the different types of text preprocessing steps which we can do on text data. But we need not do all of these all the times. We need to carefully choose the preprocessing steps based on our use case since that also play an important role.\n",
    "\n",
    "For example, in sentiment analysis use case, we need not remove the emojis as it will convey some important information about the sentiment. Similarly we need to decide based on our use cases."
   ]
  },
  {
   "cell_type": "markdown",
   "metadata": {},
   "source": [
    "## Import libraries"
   ]
  },
  {
   "cell_type": "code",
   "execution_count": 1,
   "metadata": {
    "scrolled": true
   },
   "outputs": [],
   "source": [
    "import numpy as np\n",
    "import pandas as pd\n",
    "import re\n",
    "import nltk\n",
    "import spacy\n",
    "import string\n",
    "pd.options.mode.chained_assignment = None"
   ]
  },
  {
   "cell_type": "markdown",
   "metadata": {},
   "source": [
    "## Read the data"
   ]
  },
  {
   "cell_type": "code",
   "execution_count": 2,
   "metadata": {},
   "outputs": [],
   "source": [
    "pd.set_option('max_colwidth', 100)"
   ]
  },
  {
   "cell_type": "code",
   "execution_count": 3,
   "metadata": {},
   "outputs": [
    {
     "data": {
      "text/html": [
       "<div>\n",
       "<style scoped>\n",
       "    .dataframe tbody tr th:only-of-type {\n",
       "        vertical-align: middle;\n",
       "    }\n",
       "\n",
       "    .dataframe tbody tr th {\n",
       "        vertical-align: top;\n",
       "    }\n",
       "\n",
       "    .dataframe thead th {\n",
       "        text-align: right;\n",
       "    }\n",
       "</style>\n",
       "<table border=\"1\" class=\"dataframe\">\n",
       "  <thead>\n",
       "    <tr style=\"text-align: right;\">\n",
       "      <th></th>\n",
       "      <th>text</th>\n",
       "    </tr>\n",
       "  </thead>\n",
       "  <tbody>\n",
       "    <tr>\n",
       "      <th>0</th>\n",
       "      <td>@161252 What's that egg website people talk about</td>\n",
       "    </tr>\n",
       "    <tr>\n",
       "      <th>1</th>\n",
       "      <td>Why!🤷🏻‍♀️ #iOS11 @AppleSupport https://t.co/BXrVfeIXxq</td>\n",
       "    </tr>\n",
       "    <tr>\n",
       "      <th>2</th>\n",
       "      <td>@693975 We can assist you. We recommend updating to iOS 11.1.1 if you haven't had the chance to ...</td>\n",
       "    </tr>\n",
       "    <tr>\n",
       "      <th>3</th>\n",
       "      <td>@331912 @115955 Thats better than having an unstable connection that drops every 5-20 mins</td>\n",
       "    </tr>\n",
       "    <tr>\n",
       "      <th>4</th>\n",
       "      <td>@VirginAmerica is probably one of the best airlines I've ever experienced.</td>\n",
       "    </tr>\n",
       "  </tbody>\n",
       "</table>\n",
       "</div>"
      ],
      "text/plain": [
       "                                                                                                  text\n",
       "0                                                    @161252 What's that egg website people talk about\n",
       "1                                               Why!🤷🏻‍♀️ #iOS11 @AppleSupport https://t.co/BXrVfeIXxq\n",
       "2  @693975 We can assist you. We recommend updating to iOS 11.1.1 if you haven't had the chance to ...\n",
       "3           @331912 @115955 Thats better than having an unstable connection that drops every 5-20 mins\n",
       "4                           @VirginAmerica is probably one of the best airlines I've ever experienced."
      ]
     },
     "execution_count": 3,
     "metadata": {},
     "output_type": "execute_result"
    }
   ],
   "source": [
    "df = pd.read_csv('../data/text.csv', lineterminator='\\n')\n",
    "df.head()"
   ]
  },
  {
   "cell_type": "code",
   "execution_count": 4,
   "metadata": {},
   "outputs": [
    {
     "data": {
      "text/plain": [
       "(5000, 1)"
      ]
     },
     "execution_count": 4,
     "metadata": {},
     "output_type": "execute_result"
    }
   ],
   "source": [
    "df.shape"
   ]
  },
  {
   "cell_type": "markdown",
   "metadata": {},
   "source": [
    "## Lower Casing\n",
    "Lower casing is a common text preprocessing technique. The idea is to convert the input text into same casing format so that 'text', 'Text' and 'TEXT' are treated the same way.\n",
    "\n"
   ]
  },
  {
   "cell_type": "code",
   "execution_count": 5,
   "metadata": {},
   "outputs": [
    {
     "data": {
      "text/html": [
       "<div>\n",
       "<style scoped>\n",
       "    .dataframe tbody tr th:only-of-type {\n",
       "        vertical-align: middle;\n",
       "    }\n",
       "\n",
       "    .dataframe tbody tr th {\n",
       "        vertical-align: top;\n",
       "    }\n",
       "\n",
       "    .dataframe thead th {\n",
       "        text-align: right;\n",
       "    }\n",
       "</style>\n",
       "<table border=\"1\" class=\"dataframe\">\n",
       "  <thead>\n",
       "    <tr style=\"text-align: right;\">\n",
       "      <th></th>\n",
       "      <th>text</th>\n",
       "      <th>text_lower</th>\n",
       "    </tr>\n",
       "  </thead>\n",
       "  <tbody>\n",
       "    <tr>\n",
       "      <th>0</th>\n",
       "      <td>@161252 What's that egg website people talk about</td>\n",
       "      <td>@161252 what's that egg website people talk about</td>\n",
       "    </tr>\n",
       "    <tr>\n",
       "      <th>1</th>\n",
       "      <td>Why!🤷🏻‍♀️ #iOS11 @AppleSupport https://t.co/BXrVfeIXxq</td>\n",
       "      <td>why!🤷🏻‍♀️ #ios11 @applesupport https://t.co/bxrvfeixxq</td>\n",
       "    </tr>\n",
       "    <tr>\n",
       "      <th>2</th>\n",
       "      <td>@693975 We can assist you. We recommend updating to iOS 11.1.1 if you haven't had the chance to ...</td>\n",
       "      <td>@693975 we can assist you. we recommend updating to ios 11.1.1 if you haven't had the chance to ...</td>\n",
       "    </tr>\n",
       "    <tr>\n",
       "      <th>3</th>\n",
       "      <td>@331912 @115955 Thats better than having an unstable connection that drops every 5-20 mins</td>\n",
       "      <td>@331912 @115955 thats better than having an unstable connection that drops every 5-20 mins</td>\n",
       "    </tr>\n",
       "    <tr>\n",
       "      <th>4</th>\n",
       "      <td>@VirginAmerica is probably one of the best airlines I've ever experienced.</td>\n",
       "      <td>@virginamerica is probably one of the best airlines i've ever experienced.</td>\n",
       "    </tr>\n",
       "  </tbody>\n",
       "</table>\n",
       "</div>"
      ],
      "text/plain": [
       "                                                                                                  text  \\\n",
       "0                                                    @161252 What's that egg website people talk about   \n",
       "1                                               Why!🤷🏻‍♀️ #iOS11 @AppleSupport https://t.co/BXrVfeIXxq   \n",
       "2  @693975 We can assist you. We recommend updating to iOS 11.1.1 if you haven't had the chance to ...   \n",
       "3           @331912 @115955 Thats better than having an unstable connection that drops every 5-20 mins   \n",
       "4                           @VirginAmerica is probably one of the best airlines I've ever experienced.   \n",
       "\n",
       "                                                                                            text_lower  \n",
       "0                                                    @161252 what's that egg website people talk about  \n",
       "1                                               why!🤷🏻‍♀️ #ios11 @applesupport https://t.co/bxrvfeixxq  \n",
       "2  @693975 we can assist you. we recommend updating to ios 11.1.1 if you haven't had the chance to ...  \n",
       "3           @331912 @115955 thats better than having an unstable connection that drops every 5-20 mins  \n",
       "4                           @virginamerica is probably one of the best airlines i've ever experienced.  "
      ]
     },
     "execution_count": 5,
     "metadata": {},
     "output_type": "execute_result"
    }
   ],
   "source": [
    "df['text_lower'] = df['text'].str.lower()\n",
    "df.head()"
   ]
  },
  {
   "cell_type": "markdown",
   "metadata": {},
   "source": [
    "## Removal of Punctuations\n",
    "\n",
    "One another common text preprocessing technique is to remove the punctuations from the text data. This is again a text standardization process that will help to treat 'hurray' and 'hurray!' in the same way.\n",
    "\n",
    "We also need to carefully choose the list of punctuations to exclude depending on the use case. For example, the string.punctuation in python contains the following punctuation symbols !\"#$%&\\'()*+,-./:;<=>?@[\\\\]^_{|}~`\n",
    "\n",
    "We can add or remove more punctuations as per our need."
   ]
  },
  {
   "cell_type": "code",
   "execution_count": 6,
   "metadata": {},
   "outputs": [
    {
     "data": {
      "text/plain": [
       "'!\"#$%&\\'()*+,-./:;<=>?@[\\\\]^_`{|}~'"
      ]
     },
     "execution_count": 6,
     "metadata": {},
     "output_type": "execute_result"
    }
   ],
   "source": [
    "string.punctuation"
   ]
  },
  {
   "cell_type": "code",
   "execution_count": 7,
   "metadata": {},
   "outputs": [
    {
     "name": "stdout",
     "output_type": "stream",
     "text": [
      "[\\!\\\"\\#\\$\\%\\&\\'\\(\\)\\*\\+\\,\\-\\.\\/\\:\\;\\<\\=\\>\\?\\@\\[\\\\\\]\\^\\_\\`\\{\\|\\}\\~]\n"
     ]
    }
   ],
   "source": [
    "# Regex pattern to remove punctuations\n",
    "# here one slash is required to escape regex characters such as \"[]\" and one slash for python requirements\n",
    "regex_pattern = '[' + ''.join('\\\\'+c for c in string.punctuation) + ']'\n",
    "print(regex_pattern)"
   ]
  },
  {
   "cell_type": "code",
   "execution_count": 8,
   "metadata": {},
   "outputs": [
    {
     "data": {
      "text/html": [
       "<div>\n",
       "<style scoped>\n",
       "    .dataframe tbody tr th:only-of-type {\n",
       "        vertical-align: middle;\n",
       "    }\n",
       "\n",
       "    .dataframe tbody tr th {\n",
       "        vertical-align: top;\n",
       "    }\n",
       "\n",
       "    .dataframe thead th {\n",
       "        text-align: right;\n",
       "    }\n",
       "</style>\n",
       "<table border=\"1\" class=\"dataframe\">\n",
       "  <thead>\n",
       "    <tr style=\"text-align: right;\">\n",
       "      <th></th>\n",
       "      <th>text</th>\n",
       "      <th>text_lower</th>\n",
       "      <th>text_wo_punct</th>\n",
       "    </tr>\n",
       "  </thead>\n",
       "  <tbody>\n",
       "    <tr>\n",
       "      <th>0</th>\n",
       "      <td>@161252 What's that egg website people talk about</td>\n",
       "      <td>@161252 what's that egg website people talk about</td>\n",
       "      <td>161252 whats that egg website people talk about</td>\n",
       "    </tr>\n",
       "    <tr>\n",
       "      <th>1</th>\n",
       "      <td>Why!🤷🏻‍♀️ #iOS11 @AppleSupport https://t.co/BXrVfeIXxq</td>\n",
       "      <td>why!🤷🏻‍♀️ #ios11 @applesupport https://t.co/bxrvfeixxq</td>\n",
       "      <td>why🤷🏻‍♀️ ios11 applesupport httpstcobxrvfeixxq</td>\n",
       "    </tr>\n",
       "    <tr>\n",
       "      <th>2</th>\n",
       "      <td>@693975 We can assist you. We recommend updating to iOS 11.1.1 if you haven't had the chance to ...</td>\n",
       "      <td>@693975 we can assist you. we recommend updating to ios 11.1.1 if you haven't had the chance to ...</td>\n",
       "      <td>693975 we can assist you we recommend updating to ios 1111 if you havent had the chance to do so...</td>\n",
       "    </tr>\n",
       "    <tr>\n",
       "      <th>3</th>\n",
       "      <td>@331912 @115955 Thats better than having an unstable connection that drops every 5-20 mins</td>\n",
       "      <td>@331912 @115955 thats better than having an unstable connection that drops every 5-20 mins</td>\n",
       "      <td>331912 115955 thats better than having an unstable connection that drops every 520 mins</td>\n",
       "    </tr>\n",
       "    <tr>\n",
       "      <th>4</th>\n",
       "      <td>@VirginAmerica is probably one of the best airlines I've ever experienced.</td>\n",
       "      <td>@virginamerica is probably one of the best airlines i've ever experienced.</td>\n",
       "      <td>virginamerica is probably one of the best airlines ive ever experienced</td>\n",
       "    </tr>\n",
       "  </tbody>\n",
       "</table>\n",
       "</div>"
      ],
      "text/plain": [
       "                                                                                                  text  \\\n",
       "0                                                    @161252 What's that egg website people talk about   \n",
       "1                                               Why!🤷🏻‍♀️ #iOS11 @AppleSupport https://t.co/BXrVfeIXxq   \n",
       "2  @693975 We can assist you. We recommend updating to iOS 11.1.1 if you haven't had the chance to ...   \n",
       "3           @331912 @115955 Thats better than having an unstable connection that drops every 5-20 mins   \n",
       "4                           @VirginAmerica is probably one of the best airlines I've ever experienced.   \n",
       "\n",
       "                                                                                            text_lower  \\\n",
       "0                                                    @161252 what's that egg website people talk about   \n",
       "1                                               why!🤷🏻‍♀️ #ios11 @applesupport https://t.co/bxrvfeixxq   \n",
       "2  @693975 we can assist you. we recommend updating to ios 11.1.1 if you haven't had the chance to ...   \n",
       "3           @331912 @115955 thats better than having an unstable connection that drops every 5-20 mins   \n",
       "4                           @virginamerica is probably one of the best airlines i've ever experienced.   \n",
       "\n",
       "                                                                                         text_wo_punct  \n",
       "0                                                      161252 whats that egg website people talk about  \n",
       "1                                                       why🤷🏻‍♀️ ios11 applesupport httpstcobxrvfeixxq  \n",
       "2  693975 we can assist you we recommend updating to ios 1111 if you havent had the chance to do so...  \n",
       "3              331912 115955 thats better than having an unstable connection that drops every 520 mins  \n",
       "4                              virginamerica is probably one of the best airlines ive ever experienced  "
      ]
     },
     "execution_count": 8,
     "metadata": {},
     "output_type": "execute_result"
    }
   ],
   "source": [
    "df['text_wo_punct'] = df['text_lower'].str.replace(regex_pattern, '')\n",
    "df.head()"
   ]
  },
  {
   "cell_type": "markdown",
   "metadata": {},
   "source": [
    "## Removal of stopwords\n",
    "Stopwords are commonly occuring words in a language like 'the', 'a' and so on. They can be removed from the text most of the times, as they don't provide valuable information for downstream analysis. In cases like Part of Speech tagging, we should not remove them as provide very valuable information about the POS.\n",
    "\n",
    "These stopword lists are already compiled for different languages and we can safely use them. For example, the stopword list for english language from the nltk package can be seen below."
   ]
  },
  {
   "cell_type": "code",
   "execution_count": 9,
   "metadata": {},
   "outputs": [
    {
     "name": "stderr",
     "output_type": "stream",
     "text": [
      "[nltk_data] Downloading package stopwords to C:\\Users\\Hiren\n",
      "[nltk_data]     Kelaiya\\AppData\\Roaming\\nltk_data...\n",
      "[nltk_data]   Package stopwords is already up-to-date!\n"
     ]
    },
    {
     "data": {
      "text/plain": [
       "True"
      ]
     },
     "execution_count": 9,
     "metadata": {},
     "output_type": "execute_result"
    }
   ],
   "source": [
    "import nltk\n",
    "nltk.download('stopwords')"
   ]
  },
  {
   "cell_type": "code",
   "execution_count": 10,
   "metadata": {},
   "outputs": [
    {
     "data": {
      "text/plain": [
       "\"i, me, my, myself, we, our, ours, ourselves, you, you're, you've, you'll, you'd, your, yours, yourself, yourselves, he, him, his, himself, she, she's, her, hers, herself, it, it's, its, itself, they, them, their, theirs, themselves, what, which, who, whom, this, that, that'll, these, those, am, is, are, was, were, be, been, being, have, has, had, having, do, does, did, doing, a, an, the, and, but, if, or, because, as, until, while, of, at, by, for, with, about, against, between, into, through, during, before, after, above, below, to, from, up, down, in, out, on, off, over, under, again, further, then, once, here, there, when, where, why, how, all, any, both, each, few, more, most, other, some, such, no, nor, not, only, own, same, so, than, too, very, s, t, can, will, just, don, don't, should, should've, now, d, ll, m, o, re, ve, y, ain, aren, aren't, couldn, couldn't, didn, didn't, doesn, doesn't, hadn, hadn't, hasn, hasn't, haven, haven't, isn, isn't, ma, mightn, mightn't, mustn, mustn't, needn, needn't, shan, shan't, shouldn, shouldn't, wasn, wasn't, weren, weren't, won, won't, wouldn, wouldn't\""
      ]
     },
     "execution_count": 10,
     "metadata": {},
     "output_type": "execute_result"
    }
   ],
   "source": [
    "from nltk.corpus import stopwords\n",
    "\n",
    "STOP_WORDS = stopwords.words('english') \n",
    "', '.join(STOP_WORDS)"
   ]
  },
  {
   "cell_type": "code",
   "execution_count": 11,
   "metadata": {},
   "outputs": [
    {
     "data": {
      "text/plain": [
       "'161252 whats that egg website people talk about'"
      ]
     },
     "execution_count": 11,
     "metadata": {},
     "output_type": "execute_result"
    }
   ],
   "source": [
    "df['text_wo_punct'].iloc[0]"
   ]
  },
  {
   "cell_type": "code",
   "execution_count": 12,
   "metadata": {},
   "outputs": [
    {
     "data": {
      "text/plain": [
       "'161252 whats egg website people talk'"
      ]
     },
     "execution_count": 12,
     "metadata": {},
     "output_type": "execute_result"
    }
   ],
   "source": [
    "' '.join([word for word in df['text_wo_punct'].iloc[0].split() if word not in STOP_WORDS])"
   ]
  },
  {
   "cell_type": "code",
   "execution_count": 13,
   "metadata": {},
   "outputs": [],
   "source": [
    "def remove_stop_word(text: str, stopwords: list) -> str:\n",
    "    \"\"\"Custom function to remove stopwords\n",
    "    \n",
    "    Args:\n",
    "        text (str): A string\n",
    "    \"\"\"\n",
    "    return ' '.join([word for word in text.split() if word not in stopwords])"
   ]
  },
  {
   "cell_type": "code",
   "execution_count": 14,
   "metadata": {},
   "outputs": [
    {
     "data": {
      "text/html": [
       "<div>\n",
       "<style scoped>\n",
       "    .dataframe tbody tr th:only-of-type {\n",
       "        vertical-align: middle;\n",
       "    }\n",
       "\n",
       "    .dataframe tbody tr th {\n",
       "        vertical-align: top;\n",
       "    }\n",
       "\n",
       "    .dataframe thead th {\n",
       "        text-align: right;\n",
       "    }\n",
       "</style>\n",
       "<table border=\"1\" class=\"dataframe\">\n",
       "  <thead>\n",
       "    <tr style=\"text-align: right;\">\n",
       "      <th></th>\n",
       "      <th>text</th>\n",
       "      <th>text_lower</th>\n",
       "      <th>text_wo_punct</th>\n",
       "      <th>text_wo_stop</th>\n",
       "    </tr>\n",
       "  </thead>\n",
       "  <tbody>\n",
       "    <tr>\n",
       "      <th>0</th>\n",
       "      <td>@161252 What's that egg website people talk about</td>\n",
       "      <td>@161252 what's that egg website people talk about</td>\n",
       "      <td>161252 whats that egg website people talk about</td>\n",
       "      <td>161252 whats egg website people talk</td>\n",
       "    </tr>\n",
       "    <tr>\n",
       "      <th>1</th>\n",
       "      <td>Why!🤷🏻‍♀️ #iOS11 @AppleSupport https://t.co/BXrVfeIXxq</td>\n",
       "      <td>why!🤷🏻‍♀️ #ios11 @applesupport https://t.co/bxrvfeixxq</td>\n",
       "      <td>why🤷🏻‍♀️ ios11 applesupport httpstcobxrvfeixxq</td>\n",
       "      <td>why🤷🏻‍♀️ ios11 applesupport httpstcobxrvfeixxq</td>\n",
       "    </tr>\n",
       "    <tr>\n",
       "      <th>2</th>\n",
       "      <td>@693975 We can assist you. We recommend updating to iOS 11.1.1 if you haven't had the chance to ...</td>\n",
       "      <td>@693975 we can assist you. we recommend updating to ios 11.1.1 if you haven't had the chance to ...</td>\n",
       "      <td>693975 we can assist you we recommend updating to ios 1111 if you havent had the chance to do so...</td>\n",
       "      <td>693975 assist recommend updating ios 1111 havent chance also dm us following link futher support...</td>\n",
       "    </tr>\n",
       "    <tr>\n",
       "      <th>3</th>\n",
       "      <td>@331912 @115955 Thats better than having an unstable connection that drops every 5-20 mins</td>\n",
       "      <td>@331912 @115955 thats better than having an unstable connection that drops every 5-20 mins</td>\n",
       "      <td>331912 115955 thats better than having an unstable connection that drops every 520 mins</td>\n",
       "      <td>331912 115955 thats better unstable connection drops every 520 mins</td>\n",
       "    </tr>\n",
       "    <tr>\n",
       "      <th>4</th>\n",
       "      <td>@VirginAmerica is probably one of the best airlines I've ever experienced.</td>\n",
       "      <td>@virginamerica is probably one of the best airlines i've ever experienced.</td>\n",
       "      <td>virginamerica is probably one of the best airlines ive ever experienced</td>\n",
       "      <td>virginamerica probably one best airlines ive ever experienced</td>\n",
       "    </tr>\n",
       "  </tbody>\n",
       "</table>\n",
       "</div>"
      ],
      "text/plain": [
       "                                                                                                  text  \\\n",
       "0                                                    @161252 What's that egg website people talk about   \n",
       "1                                               Why!🤷🏻‍♀️ #iOS11 @AppleSupport https://t.co/BXrVfeIXxq   \n",
       "2  @693975 We can assist you. We recommend updating to iOS 11.1.1 if you haven't had the chance to ...   \n",
       "3           @331912 @115955 Thats better than having an unstable connection that drops every 5-20 mins   \n",
       "4                           @VirginAmerica is probably one of the best airlines I've ever experienced.   \n",
       "\n",
       "                                                                                            text_lower  \\\n",
       "0                                                    @161252 what's that egg website people talk about   \n",
       "1                                               why!🤷🏻‍♀️ #ios11 @applesupport https://t.co/bxrvfeixxq   \n",
       "2  @693975 we can assist you. we recommend updating to ios 11.1.1 if you haven't had the chance to ...   \n",
       "3           @331912 @115955 thats better than having an unstable connection that drops every 5-20 mins   \n",
       "4                           @virginamerica is probably one of the best airlines i've ever experienced.   \n",
       "\n",
       "                                                                                         text_wo_punct  \\\n",
       "0                                                      161252 whats that egg website people talk about   \n",
       "1                                                       why🤷🏻‍♀️ ios11 applesupport httpstcobxrvfeixxq   \n",
       "2  693975 we can assist you we recommend updating to ios 1111 if you havent had the chance to do so...   \n",
       "3              331912 115955 thats better than having an unstable connection that drops every 520 mins   \n",
       "4                              virginamerica is probably one of the best airlines ive ever experienced   \n",
       "\n",
       "                                                                                          text_wo_stop  \n",
       "0                                                                 161252 whats egg website people talk  \n",
       "1                                                       why🤷🏻‍♀️ ios11 applesupport httpstcobxrvfeixxq  \n",
       "2  693975 assist recommend updating ios 1111 havent chance also dm us following link futher support...  \n",
       "3                                  331912 115955 thats better unstable connection drops every 520 mins  \n",
       "4                                        virginamerica probably one best airlines ive ever experienced  "
      ]
     },
     "execution_count": 14,
     "metadata": {},
     "output_type": "execute_result"
    }
   ],
   "source": [
    "df['text_wo_stop'] = df['text_wo_punct'].apply(lambda text: remove_stop_word(text, STOP_WORDS))\n",
    "df.head()"
   ]
  },
  {
   "cell_type": "markdown",
   "metadata": {},
   "source": [
    "## Removal of Frequent words\n",
    "In the previos preprocessing step, we removed the stopwords based on language information. But say, if we have a domain specific corpus, we might also have some frequent words which are of not so much importance to us.\n",
    "\n",
    "So this step is to remove the frequent words in the given corpus. If we use something like tfidf, this is automatically taken care of.\n",
    "\n",
    "Let us get the most common words adn then remove them in the next step"
   ]
  },
  {
   "cell_type": "code",
   "execution_count": 15,
   "metadata": {},
   "outputs": [
    {
     "data": {
      "text/plain": [
       "[('us', 836),\n",
       " ('please', 747),\n",
       " ('dm', 632),\n",
       " ('help', 460),\n",
       " ('hi', 404),\n",
       " ('thanks', 404),\n",
       " ('get', 352),\n",
       " ('sorry', 314),\n",
       " ('like', 281),\n",
       " ('send', 276)]"
      ]
     },
     "execution_count": 15,
     "metadata": {},
     "output_type": "execute_result"
    }
   ],
   "source": [
    "from collections import Counter\n",
    "\n",
    "cnt = Counter()\n",
    "\n",
    "for text in df['text_wo_stop'].values:\n",
    "    for word in text.split():\n",
    "        cnt[word] += 1\n",
    "\n",
    "cnt.most_common(10)"
   ]
  },
  {
   "cell_type": "code",
   "execution_count": 16,
   "metadata": {},
   "outputs": [
    {
     "data": {
      "text/plain": [
       "['us', 'please', 'dm', 'help', 'hi', 'thanks', 'get', 'sorry', 'like', 'send']"
      ]
     },
     "execution_count": 16,
     "metadata": {},
     "output_type": "execute_result"
    }
   ],
   "source": [
    "FREQ_WORDS = [word for word, _ in cnt.most_common(10)]\n",
    "FREQ_WORDS"
   ]
  },
  {
   "cell_type": "code",
   "execution_count": 17,
   "metadata": {},
   "outputs": [],
   "source": [
    "def remove_frequent_word(text: str, freqwords: list) -> str:\n",
    "    \"\"\"Custom function to remove frequent words\n",
    "    \n",
    "    Args:\n",
    "        text (str): A string\n",
    "    \"\"\"\n",
    "    return ' '.join([word for word in text.split() if word not in freqwords])"
   ]
  },
  {
   "cell_type": "code",
   "execution_count": 18,
   "metadata": {},
   "outputs": [
    {
     "data": {
      "text/html": [
       "<div>\n",
       "<style scoped>\n",
       "    .dataframe tbody tr th:only-of-type {\n",
       "        vertical-align: middle;\n",
       "    }\n",
       "\n",
       "    .dataframe tbody tr th {\n",
       "        vertical-align: top;\n",
       "    }\n",
       "\n",
       "    .dataframe thead th {\n",
       "        text-align: right;\n",
       "    }\n",
       "</style>\n",
       "<table border=\"1\" class=\"dataframe\">\n",
       "  <thead>\n",
       "    <tr style=\"text-align: right;\">\n",
       "      <th></th>\n",
       "      <th>text</th>\n",
       "      <th>text_lower</th>\n",
       "      <th>text_wo_punct</th>\n",
       "      <th>text_wo_stop</th>\n",
       "      <th>text_wo_stopfreq</th>\n",
       "    </tr>\n",
       "  </thead>\n",
       "  <tbody>\n",
       "    <tr>\n",
       "      <th>0</th>\n",
       "      <td>@161252 What's that egg website people talk about</td>\n",
       "      <td>@161252 what's that egg website people talk about</td>\n",
       "      <td>161252 whats that egg website people talk about</td>\n",
       "      <td>161252 whats egg website people talk</td>\n",
       "      <td>161252 whats egg website people talk</td>\n",
       "    </tr>\n",
       "    <tr>\n",
       "      <th>1</th>\n",
       "      <td>Why!🤷🏻‍♀️ #iOS11 @AppleSupport https://t.co/BXrVfeIXxq</td>\n",
       "      <td>why!🤷🏻‍♀️ #ios11 @applesupport https://t.co/bxrvfeixxq</td>\n",
       "      <td>why🤷🏻‍♀️ ios11 applesupport httpstcobxrvfeixxq</td>\n",
       "      <td>why🤷🏻‍♀️ ios11 applesupport httpstcobxrvfeixxq</td>\n",
       "      <td>why🤷🏻‍♀️ ios11 applesupport httpstcobxrvfeixxq</td>\n",
       "    </tr>\n",
       "    <tr>\n",
       "      <th>2</th>\n",
       "      <td>@693975 We can assist you. We recommend updating to iOS 11.1.1 if you haven't had the chance to ...</td>\n",
       "      <td>@693975 we can assist you. we recommend updating to ios 11.1.1 if you haven't had the chance to ...</td>\n",
       "      <td>693975 we can assist you we recommend updating to ios 1111 if you havent had the chance to do so...</td>\n",
       "      <td>693975 assist recommend updating ios 1111 havent chance also dm us following link futher support...</td>\n",
       "      <td>693975 assist recommend updating ios 1111 havent chance also following link futher support https...</td>\n",
       "    </tr>\n",
       "    <tr>\n",
       "      <th>3</th>\n",
       "      <td>@331912 @115955 Thats better than having an unstable connection that drops every 5-20 mins</td>\n",
       "      <td>@331912 @115955 thats better than having an unstable connection that drops every 5-20 mins</td>\n",
       "      <td>331912 115955 thats better than having an unstable connection that drops every 520 mins</td>\n",
       "      <td>331912 115955 thats better unstable connection drops every 520 mins</td>\n",
       "      <td>331912 115955 thats better unstable connection drops every 520 mins</td>\n",
       "    </tr>\n",
       "    <tr>\n",
       "      <th>4</th>\n",
       "      <td>@VirginAmerica is probably one of the best airlines I've ever experienced.</td>\n",
       "      <td>@virginamerica is probably one of the best airlines i've ever experienced.</td>\n",
       "      <td>virginamerica is probably one of the best airlines ive ever experienced</td>\n",
       "      <td>virginamerica probably one best airlines ive ever experienced</td>\n",
       "      <td>virginamerica probably one best airlines ive ever experienced</td>\n",
       "    </tr>\n",
       "  </tbody>\n",
       "</table>\n",
       "</div>"
      ],
      "text/plain": [
       "                                                                                                  text  \\\n",
       "0                                                    @161252 What's that egg website people talk about   \n",
       "1                                               Why!🤷🏻‍♀️ #iOS11 @AppleSupport https://t.co/BXrVfeIXxq   \n",
       "2  @693975 We can assist you. We recommend updating to iOS 11.1.1 if you haven't had the chance to ...   \n",
       "3           @331912 @115955 Thats better than having an unstable connection that drops every 5-20 mins   \n",
       "4                           @VirginAmerica is probably one of the best airlines I've ever experienced.   \n",
       "\n",
       "                                                                                            text_lower  \\\n",
       "0                                                    @161252 what's that egg website people talk about   \n",
       "1                                               why!🤷🏻‍♀️ #ios11 @applesupport https://t.co/bxrvfeixxq   \n",
       "2  @693975 we can assist you. we recommend updating to ios 11.1.1 if you haven't had the chance to ...   \n",
       "3           @331912 @115955 thats better than having an unstable connection that drops every 5-20 mins   \n",
       "4                           @virginamerica is probably one of the best airlines i've ever experienced.   \n",
       "\n",
       "                                                                                         text_wo_punct  \\\n",
       "0                                                      161252 whats that egg website people talk about   \n",
       "1                                                       why🤷🏻‍♀️ ios11 applesupport httpstcobxrvfeixxq   \n",
       "2  693975 we can assist you we recommend updating to ios 1111 if you havent had the chance to do so...   \n",
       "3              331912 115955 thats better than having an unstable connection that drops every 520 mins   \n",
       "4                              virginamerica is probably one of the best airlines ive ever experienced   \n",
       "\n",
       "                                                                                          text_wo_stop  \\\n",
       "0                                                                 161252 whats egg website people talk   \n",
       "1                                                       why🤷🏻‍♀️ ios11 applesupport httpstcobxrvfeixxq   \n",
       "2  693975 assist recommend updating ios 1111 havent chance also dm us following link futher support...   \n",
       "3                                  331912 115955 thats better unstable connection drops every 520 mins   \n",
       "4                                        virginamerica probably one best airlines ive ever experienced   \n",
       "\n",
       "                                                                                      text_wo_stopfreq  \n",
       "0                                                                 161252 whats egg website people talk  \n",
       "1                                                       why🤷🏻‍♀️ ios11 applesupport httpstcobxrvfeixxq  \n",
       "2  693975 assist recommend updating ios 1111 havent chance also following link futher support https...  \n",
       "3                                  331912 115955 thats better unstable connection drops every 520 mins  \n",
       "4                                        virginamerica probably one best airlines ive ever experienced  "
      ]
     },
     "execution_count": 18,
     "metadata": {},
     "output_type": "execute_result"
    }
   ],
   "source": [
    "df['text_wo_stopfreq'] = df['text_wo_stop'].apply(lambda text: remove_frequent_word(text, FREQ_WORDS))\n",
    "df.head()"
   ]
  },
  {
   "cell_type": "markdown",
   "metadata": {},
   "source": [
    "## Removal of Rare words\n",
    "This is very similar to previous preprocessing step but we will remove the rare words from the corpus."
   ]
  },
  {
   "cell_type": "code",
   "execution_count": 19,
   "metadata": {},
   "outputs": [
    {
     "data": {
      "text/html": [
       "<div>\n",
       "<style scoped>\n",
       "    .dataframe tbody tr th:only-of-type {\n",
       "        vertical-align: middle;\n",
       "    }\n",
       "\n",
       "    .dataframe tbody tr th {\n",
       "        vertical-align: top;\n",
       "    }\n",
       "\n",
       "    .dataframe thead th {\n",
       "        text-align: right;\n",
       "    }\n",
       "</style>\n",
       "<table border=\"1\" class=\"dataframe\">\n",
       "  <thead>\n",
       "    <tr style=\"text-align: right;\">\n",
       "      <th></th>\n",
       "      <th>word</th>\n",
       "      <th>count</th>\n",
       "    </tr>\n",
       "  </thead>\n",
       "  <tbody>\n",
       "    <tr>\n",
       "      <th>4209</th>\n",
       "      <td>161252</td>\n",
       "      <td>1</td>\n",
       "    </tr>\n",
       "    <tr>\n",
       "      <th>4210</th>\n",
       "      <td>why🤷🏻‍♀️</td>\n",
       "      <td>1</td>\n",
       "    </tr>\n",
       "    <tr>\n",
       "      <th>4211</th>\n",
       "      <td>httpstcobxrvfeixxq</td>\n",
       "      <td>1</td>\n",
       "    </tr>\n",
       "    <tr>\n",
       "      <th>4212</th>\n",
       "      <td>693975</td>\n",
       "      <td>1</td>\n",
       "    </tr>\n",
       "    <tr>\n",
       "      <th>4213</th>\n",
       "      <td>futher</td>\n",
       "      <td>1</td>\n",
       "    </tr>\n",
       "    <tr>\n",
       "      <th>...</th>\n",
       "      <td>...</td>\n",
       "      <td>...</td>\n",
       "    </tr>\n",
       "    <tr>\n",
       "      <th>13519</th>\n",
       "      <td>170844</td>\n",
       "      <td>1</td>\n",
       "    </tr>\n",
       "    <tr>\n",
       "      <th>13520</th>\n",
       "      <td>inr1400</td>\n",
       "      <td>1</td>\n",
       "    </tr>\n",
       "    <tr>\n",
       "      <th>13521</th>\n",
       "      <td>puma</td>\n",
       "      <td>1</td>\n",
       "    </tr>\n",
       "    <tr>\n",
       "      <th>13522</th>\n",
       "      <td>custom</td>\n",
       "      <td>1</td>\n",
       "    </tr>\n",
       "    <tr>\n",
       "      <th>13523</th>\n",
       "      <td>kidsfriendly</td>\n",
       "      <td>1</td>\n",
       "    </tr>\n",
       "  </tbody>\n",
       "</table>\n",
       "<p>9315 rows × 2 columns</p>\n",
       "</div>"
      ],
      "text/plain": [
       "                     word  count\n",
       "4209               161252      1\n",
       "4210             why🤷🏻‍♀️      1\n",
       "4211   httpstcobxrvfeixxq      1\n",
       "4212               693975      1\n",
       "4213               futher      1\n",
       "...                   ...    ...\n",
       "13519              170844      1\n",
       "13520             inr1400      1\n",
       "13521                puma      1\n",
       "13522              custom      1\n",
       "13523        kidsfriendly      1\n",
       "\n",
       "[9315 rows x 2 columns]"
      ]
     },
     "execution_count": 19,
     "metadata": {},
     "output_type": "execute_result"
    }
   ],
   "source": [
    "pd.DataFrame(cnt.most_common(), columns=['word', 'count']).query('count == 1')"
   ]
  },
  {
   "cell_type": "code",
   "execution_count": 20,
   "metadata": {},
   "outputs": [
    {
     "data": {
      "text/plain": [
       "['kidsfriendly',\n",
       " 'custom',\n",
       " 'puma',\n",
       " 'inr1400',\n",
       " '170844',\n",
       " 'bricked',\n",
       " 'implementing',\n",
       " '407091',\n",
       " 'reunion']"
      ]
     },
     "execution_count": 20,
     "metadata": {},
     "output_type": "execute_result"
    }
   ],
   "source": [
    "n_rare_words = 10\n",
    "RARE_WORDS = [word for word, _ in cnt.most_common()[:-n_rare_words:-1]]\n",
    "RARE_WORDS"
   ]
  },
  {
   "cell_type": "code",
   "execution_count": 21,
   "metadata": {},
   "outputs": [],
   "source": [
    "def remove_rare_word(text: str, rarewords: list) -> str:\n",
    "    \"\"\"Custom function to remove rare words\n",
    "    \n",
    "    Args:\n",
    "        text (str): A string\n",
    "    \"\"\"\n",
    "    return ' '.join([word for word in text.split() if word not in rarewords])"
   ]
  },
  {
   "cell_type": "code",
   "execution_count": 22,
   "metadata": {},
   "outputs": [
    {
     "data": {
      "text/html": [
       "<div>\n",
       "<style scoped>\n",
       "    .dataframe tbody tr th:only-of-type {\n",
       "        vertical-align: middle;\n",
       "    }\n",
       "\n",
       "    .dataframe tbody tr th {\n",
       "        vertical-align: top;\n",
       "    }\n",
       "\n",
       "    .dataframe thead th {\n",
       "        text-align: right;\n",
       "    }\n",
       "</style>\n",
       "<table border=\"1\" class=\"dataframe\">\n",
       "  <thead>\n",
       "    <tr style=\"text-align: right;\">\n",
       "      <th></th>\n",
       "      <th>text</th>\n",
       "      <th>text_wo_stopfreq</th>\n",
       "      <th>text_wo_stopfreqrare</th>\n",
       "    </tr>\n",
       "  </thead>\n",
       "  <tbody>\n",
       "    <tr>\n",
       "      <th>0</th>\n",
       "      <td>@161252 What's that egg website people talk about</td>\n",
       "      <td>161252 whats egg website people talk</td>\n",
       "      <td>161252 whats egg website people talk</td>\n",
       "    </tr>\n",
       "    <tr>\n",
       "      <th>1</th>\n",
       "      <td>Why!🤷🏻‍♀️ #iOS11 @AppleSupport https://t.co/BXrVfeIXxq</td>\n",
       "      <td>why🤷🏻‍♀️ ios11 applesupport httpstcobxrvfeixxq</td>\n",
       "      <td>why🤷🏻‍♀️ ios11 applesupport httpstcobxrvfeixxq</td>\n",
       "    </tr>\n",
       "    <tr>\n",
       "      <th>2</th>\n",
       "      <td>@693975 We can assist you. We recommend updating to iOS 11.1.1 if you haven't had the chance to ...</td>\n",
       "      <td>693975 assist recommend updating ios 1111 havent chance also following link futher support https...</td>\n",
       "      <td>693975 assist recommend updating ios 1111 havent chance also following link futher support https...</td>\n",
       "    </tr>\n",
       "    <tr>\n",
       "      <th>3</th>\n",
       "      <td>@331912 @115955 Thats better than having an unstable connection that drops every 5-20 mins</td>\n",
       "      <td>331912 115955 thats better unstable connection drops every 520 mins</td>\n",
       "      <td>331912 115955 thats better unstable connection drops every 520 mins</td>\n",
       "    </tr>\n",
       "    <tr>\n",
       "      <th>4</th>\n",
       "      <td>@VirginAmerica is probably one of the best airlines I've ever experienced.</td>\n",
       "      <td>virginamerica probably one best airlines ive ever experienced</td>\n",
       "      <td>virginamerica probably one best airlines ive ever experienced</td>\n",
       "    </tr>\n",
       "  </tbody>\n",
       "</table>\n",
       "</div>"
      ],
      "text/plain": [
       "                                                                                                  text  \\\n",
       "0                                                    @161252 What's that egg website people talk about   \n",
       "1                                               Why!🤷🏻‍♀️ #iOS11 @AppleSupport https://t.co/BXrVfeIXxq   \n",
       "2  @693975 We can assist you. We recommend updating to iOS 11.1.1 if you haven't had the chance to ...   \n",
       "3           @331912 @115955 Thats better than having an unstable connection that drops every 5-20 mins   \n",
       "4                           @VirginAmerica is probably one of the best airlines I've ever experienced.   \n",
       "\n",
       "                                                                                      text_wo_stopfreq  \\\n",
       "0                                                                 161252 whats egg website people talk   \n",
       "1                                                       why🤷🏻‍♀️ ios11 applesupport httpstcobxrvfeixxq   \n",
       "2  693975 assist recommend updating ios 1111 havent chance also following link futher support https...   \n",
       "3                                  331912 115955 thats better unstable connection drops every 520 mins   \n",
       "4                                        virginamerica probably one best airlines ive ever experienced   \n",
       "\n",
       "                                                                                  text_wo_stopfreqrare  \n",
       "0                                                                 161252 whats egg website people talk  \n",
       "1                                                       why🤷🏻‍♀️ ios11 applesupport httpstcobxrvfeixxq  \n",
       "2  693975 assist recommend updating ios 1111 havent chance also following link futher support https...  \n",
       "3                                  331912 115955 thats better unstable connection drops every 520 mins  \n",
       "4                                        virginamerica probably one best airlines ive ever experienced  "
      ]
     },
     "execution_count": 22,
     "metadata": {},
     "output_type": "execute_result"
    }
   ],
   "source": [
    "df['text_wo_stopfreqrare'] = df['text_wo_stopfreq'].apply(lambda text: remove_rare_word(text, RARE_WORDS))\n",
    "df[['text', 'text_wo_stopfreq', 'text_wo_stopfreqrare']].head()"
   ]
  },
  {
   "cell_type": "markdown",
   "metadata": {},
   "source": [
    "## Stemming\n",
    "Stemming is the process of reducing inflected (or sometimes derived) words to their word stem, base or root form (From Wikipedia)\n",
    "\n",
    "For example, if there are two words in the corpus walks and walking, then stemming will stem the suffix to make them walk. But say in another example, we have two words console and consoling, the stemmer will remove the suffix and make them consol which is not a proper english word.\n",
    "\n",
    "There are several type of stemming algorithms available and one of the famous one is porter stemmer which is widely used. We can use nltk package for the same."
   ]
  },
  {
   "cell_type": "code",
   "execution_count": 23,
   "metadata": {},
   "outputs": [],
   "source": [
    "from nltk.stem import PorterStemmer\n",
    "\n",
    "stemmer = PorterStemmer()"
   ]
  },
  {
   "cell_type": "code",
   "execution_count": 24,
   "metadata": {},
   "outputs": [],
   "source": [
    "def stem_words(text: str) -> str:\n",
    "    \"\"\"Custom function to stem the words\n",
    "    \n",
    "    Args:\n",
    "        text (str): A string\n",
    "    \"\"\"\n",
    "    return ' '.join([stemmer.stem(word) for word in text.split()])"
   ]
  },
  {
   "cell_type": "code",
   "execution_count": 25,
   "metadata": {},
   "outputs": [
    {
     "data": {
      "text/html": [
       "<div>\n",
       "<style scoped>\n",
       "    .dataframe tbody tr th:only-of-type {\n",
       "        vertical-align: middle;\n",
       "    }\n",
       "\n",
       "    .dataframe tbody tr th {\n",
       "        vertical-align: top;\n",
       "    }\n",
       "\n",
       "    .dataframe thead th {\n",
       "        text-align: right;\n",
       "    }\n",
       "</style>\n",
       "<table border=\"1\" class=\"dataframe\">\n",
       "  <thead>\n",
       "    <tr style=\"text-align: right;\">\n",
       "      <th></th>\n",
       "      <th>text</th>\n",
       "      <th>text_lower</th>\n",
       "      <th>text_stemmed</th>\n",
       "    </tr>\n",
       "  </thead>\n",
       "  <tbody>\n",
       "    <tr>\n",
       "      <th>0</th>\n",
       "      <td>@161252 What's that egg website people talk about</td>\n",
       "      <td>@161252 what's that egg website people talk about</td>\n",
       "      <td>@161252 what' that egg websit peopl talk about</td>\n",
       "    </tr>\n",
       "    <tr>\n",
       "      <th>1</th>\n",
       "      <td>Why!🤷🏻‍♀️ #iOS11 @AppleSupport https://t.co/BXrVfeIXxq</td>\n",
       "      <td>why!🤷🏻‍♀️ #ios11 @applesupport https://t.co/bxrvfeixxq</td>\n",
       "      <td>why!🤷🏻‍♀️ #ios11 @applesupport https://t.co/bxrvfeixxq</td>\n",
       "    </tr>\n",
       "    <tr>\n",
       "      <th>2</th>\n",
       "      <td>@693975 We can assist you. We recommend updating to iOS 11.1.1 if you haven't had the chance to ...</td>\n",
       "      <td>@693975 we can assist you. we recommend updating to ios 11.1.1 if you haven't had the chance to ...</td>\n",
       "      <td>@693975 we can assist you. we recommend updat to io 11.1.1 if you haven't had the chanc to do so...</td>\n",
       "    </tr>\n",
       "    <tr>\n",
       "      <th>3</th>\n",
       "      <td>@331912 @115955 Thats better than having an unstable connection that drops every 5-20 mins</td>\n",
       "      <td>@331912 @115955 thats better than having an unstable connection that drops every 5-20 mins</td>\n",
       "      <td>@331912 @115955 that better than have an unstabl connect that drop everi 5-20 min</td>\n",
       "    </tr>\n",
       "    <tr>\n",
       "      <th>4</th>\n",
       "      <td>@VirginAmerica is probably one of the best airlines I've ever experienced.</td>\n",
       "      <td>@virginamerica is probably one of the best airlines i've ever experienced.</td>\n",
       "      <td>@virginamerica is probabl one of the best airlin i'v ever experienced.</td>\n",
       "    </tr>\n",
       "  </tbody>\n",
       "</table>\n",
       "</div>"
      ],
      "text/plain": [
       "                                                                                                  text  \\\n",
       "0                                                    @161252 What's that egg website people talk about   \n",
       "1                                               Why!🤷🏻‍♀️ #iOS11 @AppleSupport https://t.co/BXrVfeIXxq   \n",
       "2  @693975 We can assist you. We recommend updating to iOS 11.1.1 if you haven't had the chance to ...   \n",
       "3           @331912 @115955 Thats better than having an unstable connection that drops every 5-20 mins   \n",
       "4                           @VirginAmerica is probably one of the best airlines I've ever experienced.   \n",
       "\n",
       "                                                                                            text_lower  \\\n",
       "0                                                    @161252 what's that egg website people talk about   \n",
       "1                                               why!🤷🏻‍♀️ #ios11 @applesupport https://t.co/bxrvfeixxq   \n",
       "2  @693975 we can assist you. we recommend updating to ios 11.1.1 if you haven't had the chance to ...   \n",
       "3           @331912 @115955 thats better than having an unstable connection that drops every 5-20 mins   \n",
       "4                           @virginamerica is probably one of the best airlines i've ever experienced.   \n",
       "\n",
       "                                                                                          text_stemmed  \n",
       "0                                                       @161252 what' that egg websit peopl talk about  \n",
       "1                                               why!🤷🏻‍♀️ #ios11 @applesupport https://t.co/bxrvfeixxq  \n",
       "2  @693975 we can assist you. we recommend updat to io 11.1.1 if you haven't had the chanc to do so...  \n",
       "3                    @331912 @115955 that better than have an unstabl connect that drop everi 5-20 min  \n",
       "4                               @virginamerica is probabl one of the best airlin i'v ever experienced.  "
      ]
     },
     "execution_count": 25,
     "metadata": {},
     "output_type": "execute_result"
    }
   ],
   "source": [
    "df['text_stemmed'] = df['text_lower'].apply(stem_words)\n",
    "df[['text', 'text_lower', 'text_stemmed']].head()"
   ]
  },
  {
   "cell_type": "markdown",
   "metadata": {},
   "source": [
    "We can see that words like probable, unstable, update and website have their e at the end chopped off due to stemming. This is not intented. What can we do for that? We can use Lemmatization in such cases.\n",
    "\n",
    "Also this porter stemmer is for English language. If we are working with other languages, we can use snowball stemmer. The supported languages for snowball stemmer are:"
   ]
  },
  {
   "cell_type": "code",
   "execution_count": 26,
   "metadata": {},
   "outputs": [
    {
     "data": {
      "text/plain": [
       "('arabic',\n",
       " 'danish',\n",
       " 'dutch',\n",
       " 'english',\n",
       " 'finnish',\n",
       " 'french',\n",
       " 'german',\n",
       " 'hungarian',\n",
       " 'italian',\n",
       " 'norwegian',\n",
       " 'porter',\n",
       " 'portuguese',\n",
       " 'romanian',\n",
       " 'russian',\n",
       " 'spanish',\n",
       " 'swedish')"
      ]
     },
     "execution_count": 26,
     "metadata": {},
     "output_type": "execute_result"
    }
   ],
   "source": [
    "from nltk.stem.snowball import SnowballStemmer\n",
    "SnowballStemmer.languages"
   ]
  },
  {
   "cell_type": "markdown",
   "metadata": {},
   "source": [
    "## Lemmatization\n",
    "Lemmatization is similar to stemming in reducing inflected words to their word stem but differs in the way that it makes sure the root word (also called as lemma) belongs to the language.\n",
    "\n",
    "As a result, this one is generally slower than stemming process. So depending on the speed requirement, we can choose to use either stemming or lemmatization.\n",
    "\n",
    "Let us use the WordNetLemmatizer in nltk to lemmatize our sentences"
   ]
  },
  {
   "cell_type": "code",
   "execution_count": 27,
   "metadata": {},
   "outputs": [
    {
     "name": "stderr",
     "output_type": "stream",
     "text": [
      "[nltk_data] Downloading package wordnet to C:\\Users\\Hiren\n",
      "[nltk_data]     Kelaiya\\AppData\\Roaming\\nltk_data...\n",
      "[nltk_data]   Package wordnet is already up-to-date!\n"
     ]
    },
    {
     "data": {
      "text/plain": [
       "True"
      ]
     },
     "execution_count": 27,
     "metadata": {},
     "output_type": "execute_result"
    }
   ],
   "source": [
    "import nltk\n",
    "nltk.download('wordnet')"
   ]
  },
  {
   "cell_type": "code",
   "execution_count": 28,
   "metadata": {},
   "outputs": [],
   "source": [
    "from nltk.stem import WordNetLemmatizer\n",
    "\n",
    "lemmatizer = WordNetLemmatizer()"
   ]
  },
  {
   "cell_type": "code",
   "execution_count": 29,
   "metadata": {},
   "outputs": [],
   "source": [
    "def lemmatize_words(text: str) -> str:\n",
    "    \"\"\"Custom function to lemmatize the words\n",
    "    \n",
    "    Args:\n",
    "        text (str): A string\n",
    "    \"\"\"\n",
    "    return ' '.join([lemmatizer.lemmatize(word) for word in text.split()])"
   ]
  },
  {
   "cell_type": "code",
   "execution_count": 30,
   "metadata": {},
   "outputs": [
    {
     "data": {
      "text/html": [
       "<div>\n",
       "<style scoped>\n",
       "    .dataframe tbody tr th:only-of-type {\n",
       "        vertical-align: middle;\n",
       "    }\n",
       "\n",
       "    .dataframe tbody tr th {\n",
       "        vertical-align: top;\n",
       "    }\n",
       "\n",
       "    .dataframe thead th {\n",
       "        text-align: right;\n",
       "    }\n",
       "</style>\n",
       "<table border=\"1\" class=\"dataframe\">\n",
       "  <thead>\n",
       "    <tr style=\"text-align: right;\">\n",
       "      <th></th>\n",
       "      <th>text</th>\n",
       "      <th>text_lower</th>\n",
       "      <th>text_stemmed</th>\n",
       "      <th>text_lemmatized</th>\n",
       "    </tr>\n",
       "  </thead>\n",
       "  <tbody>\n",
       "    <tr>\n",
       "      <th>0</th>\n",
       "      <td>@161252 What's that egg website people talk about</td>\n",
       "      <td>@161252 what's that egg website people talk about</td>\n",
       "      <td>@161252 what' that egg websit peopl talk about</td>\n",
       "      <td>@161252 what's that egg website people talk about</td>\n",
       "    </tr>\n",
       "    <tr>\n",
       "      <th>1</th>\n",
       "      <td>Why!🤷🏻‍♀️ #iOS11 @AppleSupport https://t.co/BXrVfeIXxq</td>\n",
       "      <td>why!🤷🏻‍♀️ #ios11 @applesupport https://t.co/bxrvfeixxq</td>\n",
       "      <td>why!🤷🏻‍♀️ #ios11 @applesupport https://t.co/bxrvfeixxq</td>\n",
       "      <td>why!🤷🏻‍♀️ #ios11 @applesupport https://t.co/bxrvfeixxq</td>\n",
       "    </tr>\n",
       "    <tr>\n",
       "      <th>2</th>\n",
       "      <td>@693975 We can assist you. We recommend updating to iOS 11.1.1 if you haven't had the chance to ...</td>\n",
       "      <td>@693975 we can assist you. we recommend updating to ios 11.1.1 if you haven't had the chance to ...</td>\n",
       "      <td>@693975 we can assist you. we recommend updat to io 11.1.1 if you haven't had the chanc to do so...</td>\n",
       "      <td>@693975 we can assist you. we recommend updating to io 11.1.1 if you haven't had the chance to d...</td>\n",
       "    </tr>\n",
       "    <tr>\n",
       "      <th>3</th>\n",
       "      <td>@331912 @115955 Thats better than having an unstable connection that drops every 5-20 mins</td>\n",
       "      <td>@331912 @115955 thats better than having an unstable connection that drops every 5-20 mins</td>\n",
       "      <td>@331912 @115955 that better than have an unstabl connect that drop everi 5-20 min</td>\n",
       "      <td>@331912 @115955 thats better than having an unstable connection that drop every 5-20 min</td>\n",
       "    </tr>\n",
       "    <tr>\n",
       "      <th>4</th>\n",
       "      <td>@VirginAmerica is probably one of the best airlines I've ever experienced.</td>\n",
       "      <td>@virginamerica is probably one of the best airlines i've ever experienced.</td>\n",
       "      <td>@virginamerica is probabl one of the best airlin i'v ever experienced.</td>\n",
       "      <td>@virginamerica is probably one of the best airline i've ever experienced.</td>\n",
       "    </tr>\n",
       "  </tbody>\n",
       "</table>\n",
       "</div>"
      ],
      "text/plain": [
       "                                                                                                  text  \\\n",
       "0                                                    @161252 What's that egg website people talk about   \n",
       "1                                               Why!🤷🏻‍♀️ #iOS11 @AppleSupport https://t.co/BXrVfeIXxq   \n",
       "2  @693975 We can assist you. We recommend updating to iOS 11.1.1 if you haven't had the chance to ...   \n",
       "3           @331912 @115955 Thats better than having an unstable connection that drops every 5-20 mins   \n",
       "4                           @VirginAmerica is probably one of the best airlines I've ever experienced.   \n",
       "\n",
       "                                                                                            text_lower  \\\n",
       "0                                                    @161252 what's that egg website people talk about   \n",
       "1                                               why!🤷🏻‍♀️ #ios11 @applesupport https://t.co/bxrvfeixxq   \n",
       "2  @693975 we can assist you. we recommend updating to ios 11.1.1 if you haven't had the chance to ...   \n",
       "3           @331912 @115955 thats better than having an unstable connection that drops every 5-20 mins   \n",
       "4                           @virginamerica is probably one of the best airlines i've ever experienced.   \n",
       "\n",
       "                                                                                          text_stemmed  \\\n",
       "0                                                       @161252 what' that egg websit peopl talk about   \n",
       "1                                               why!🤷🏻‍♀️ #ios11 @applesupport https://t.co/bxrvfeixxq   \n",
       "2  @693975 we can assist you. we recommend updat to io 11.1.1 if you haven't had the chanc to do so...   \n",
       "3                    @331912 @115955 that better than have an unstabl connect that drop everi 5-20 min   \n",
       "4                               @virginamerica is probabl one of the best airlin i'v ever experienced.   \n",
       "\n",
       "                                                                                       text_lemmatized  \n",
       "0                                                    @161252 what's that egg website people talk about  \n",
       "1                                               why!🤷🏻‍♀️ #ios11 @applesupport https://t.co/bxrvfeixxq  \n",
       "2  @693975 we can assist you. we recommend updating to io 11.1.1 if you haven't had the chance to d...  \n",
       "3             @331912 @115955 thats better than having an unstable connection that drop every 5-20 min  \n",
       "4                            @virginamerica is probably one of the best airline i've ever experienced.  "
      ]
     },
     "execution_count": 30,
     "metadata": {},
     "output_type": "execute_result"
    }
   ],
   "source": [
    "df['text_lemmatized'] = df['text_lower'].apply(lambda text: lemmatize_words(text))\n",
    "df[['text', 'text_lower', 'text_stemmed', 'text_lemmatized']].head()"
   ]
  },
  {
   "cell_type": "markdown",
   "metadata": {},
   "source": [
    "We can see that the trailing e in the unstable and website are retained when we use lemmatization unlike stemming.\n",
    "\n",
    "Wait. There is one more thing in lemmatization. Let us try to lemmatize running now."
   ]
  },
  {
   "cell_type": "code",
   "execution_count": 31,
   "metadata": {},
   "outputs": [
    {
     "data": {
      "text/plain": [
       "'running'"
      ]
     },
     "execution_count": 31,
     "metadata": {},
     "output_type": "execute_result"
    }
   ],
   "source": [
    "lemmatizer.lemmatize('running')"
   ]
  },
  {
   "cell_type": "markdown",
   "metadata": {},
   "source": [
    "Wow! It returned running as such without converting it to the root form run. This is because the lemmatization process depends on the POS tag to come up with the correct lemma. Now let us lemmatize again by providing the POS tag for the word"
   ]
  },
  {
   "cell_type": "code",
   "execution_count": 32,
   "metadata": {},
   "outputs": [
    {
     "data": {
      "text/plain": [
       "'run'"
      ]
     },
     "execution_count": 32,
     "metadata": {},
     "output_type": "execute_result"
    }
   ],
   "source": [
    "lemmatizer.lemmatize('running', 'v')"
   ]
  },
  {
   "cell_type": "markdown",
   "metadata": {},
   "source": [
    "## Redo the lemmatization process with POS tag for our dataset."
   ]
  },
  {
   "cell_type": "code",
   "execution_count": 33,
   "metadata": {},
   "outputs": [
    {
     "name": "stderr",
     "output_type": "stream",
     "text": [
      "[nltk_data] Downloading package averaged_perceptron_tagger to\n",
      "[nltk_data]     C:\\Users\\Hiren Kelaiya\\AppData\\Roaming\\nltk_data...\n",
      "[nltk_data]   Package averaged_perceptron_tagger is already up-to-\n",
      "[nltk_data]       date!\n"
     ]
    },
    {
     "data": {
      "text/plain": [
       "True"
      ]
     },
     "execution_count": 33,
     "metadata": {},
     "output_type": "execute_result"
    }
   ],
   "source": [
    "import nltk\n",
    "nltk.download('averaged_perceptron_tagger')"
   ]
  },
  {
   "cell_type": "code",
   "execution_count": 34,
   "metadata": {},
   "outputs": [
    {
     "data": {
      "text/plain": [
       "{'N': 'n', 'V': 'v', 'J': 'a', 'R': 'r'}"
      ]
     },
     "execution_count": 34,
     "metadata": {},
     "output_type": "execute_result"
    }
   ],
   "source": [
    "from nltk.corpus import wordnet\n",
    "from nltk.stem import WordNetLemmatizer\n",
    "\n",
    "lemmatizer = WordNetLemmatizer()\n",
    "\n",
    "wordnet_map = {\n",
    "    'N': wordnet.NOUN,\n",
    "    'V': wordnet.VERB,\n",
    "    'J': wordnet.ADJ,\n",
    "    'R': wordnet.ADV\n",
    "}\n",
    "\n",
    "wordnet_map"
   ]
  },
  {
   "cell_type": "code",
   "execution_count": 35,
   "metadata": {},
   "outputs": [],
   "source": [
    "def lemmatize_words(text: str) -> str:\n",
    "    \"\"\"Custom function to lemmatize the words\n",
    "    \n",
    "    Args:\n",
    "        text (str): A string\n",
    "    \"\"\"\n",
    "    pos_tagged_text = nltk.pos_tag(text.split())\n",
    "    \n",
    "    return ' '.join([lemmatizer.lemmatize(word, wordnet_map.get(pos[0], wordnet.NOUN)) for word, pos in pos_tagged_text])"
   ]
  },
  {
   "cell_type": "code",
   "execution_count": 36,
   "metadata": {},
   "outputs": [
    {
     "data": {
      "text/plain": [
       "[('@161252', 'NN'),\n",
       " (\"What's\", 'NNP'),\n",
       " ('that', 'IN'),\n",
       " ('egg', 'VBZ'),\n",
       " ('website', 'JJ'),\n",
       " ('people', 'NNS'),\n",
       " ('talk', 'VBP'),\n",
       " ('about', 'IN')]"
      ]
     },
     "execution_count": 36,
     "metadata": {},
     "output_type": "execute_result"
    }
   ],
   "source": [
    "pos_tagged_text = nltk.pos_tag(df['text'].iloc[0].split())\n",
    "pos_tagged_text"
   ]
  },
  {
   "cell_type": "code",
   "execution_count": 37,
   "metadata": {},
   "outputs": [
    {
     "data": {
      "text/html": [
       "<div>\n",
       "<style scoped>\n",
       "    .dataframe tbody tr th:only-of-type {\n",
       "        vertical-align: middle;\n",
       "    }\n",
       "\n",
       "    .dataframe tbody tr th {\n",
       "        vertical-align: top;\n",
       "    }\n",
       "\n",
       "    .dataframe thead th {\n",
       "        text-align: right;\n",
       "    }\n",
       "</style>\n",
       "<table border=\"1\" class=\"dataframe\">\n",
       "  <thead>\n",
       "    <tr style=\"text-align: right;\">\n",
       "      <th></th>\n",
       "      <th>text</th>\n",
       "      <th>text_lower</th>\n",
       "      <th>text_stemmed</th>\n",
       "      <th>text_lemmatized</th>\n",
       "    </tr>\n",
       "  </thead>\n",
       "  <tbody>\n",
       "    <tr>\n",
       "      <th>0</th>\n",
       "      <td>@161252 What's that egg website people talk about</td>\n",
       "      <td>@161252 what's that egg website people talk about</td>\n",
       "      <td>@161252 what' that egg websit peopl talk about</td>\n",
       "      <td>@161252 what's that egg website people talk about</td>\n",
       "    </tr>\n",
       "    <tr>\n",
       "      <th>1</th>\n",
       "      <td>Why!🤷🏻‍♀️ #iOS11 @AppleSupport https://t.co/BXrVfeIXxq</td>\n",
       "      <td>why!🤷🏻‍♀️ #ios11 @applesupport https://t.co/bxrvfeixxq</td>\n",
       "      <td>why!🤷🏻‍♀️ #ios11 @applesupport https://t.co/bxrvfeixxq</td>\n",
       "      <td>why!🤷🏻‍♀️ #ios11 @applesupport https://t.co/bxrvfeixxq</td>\n",
       "    </tr>\n",
       "    <tr>\n",
       "      <th>2</th>\n",
       "      <td>@693975 We can assist you. We recommend updating to iOS 11.1.1 if you haven't had the chance to ...</td>\n",
       "      <td>@693975 we can assist you. we recommend updating to ios 11.1.1 if you haven't had the chance to ...</td>\n",
       "      <td>@693975 we can assist you. we recommend updat to io 11.1.1 if you haven't had the chanc to do so...</td>\n",
       "      <td>@693975 we can assist you. we recommend update to ios 11.1.1 if you haven't have the chance to d...</td>\n",
       "    </tr>\n",
       "    <tr>\n",
       "      <th>3</th>\n",
       "      <td>@331912 @115955 Thats better than having an unstable connection that drops every 5-20 mins</td>\n",
       "      <td>@331912 @115955 thats better than having an unstable connection that drops every 5-20 mins</td>\n",
       "      <td>@331912 @115955 that better than have an unstabl connect that drop everi 5-20 min</td>\n",
       "      <td>@331912 @115955 thats well than have an unstable connection that drop every 5-20 min</td>\n",
       "    </tr>\n",
       "    <tr>\n",
       "      <th>4</th>\n",
       "      <td>@VirginAmerica is probably one of the best airlines I've ever experienced.</td>\n",
       "      <td>@virginamerica is probably one of the best airlines i've ever experienced.</td>\n",
       "      <td>@virginamerica is probabl one of the best airlin i'v ever experienced.</td>\n",
       "      <td>@virginamerica be probably one of the best airline i've ever experienced.</td>\n",
       "    </tr>\n",
       "  </tbody>\n",
       "</table>\n",
       "</div>"
      ],
      "text/plain": [
       "                                                                                                  text  \\\n",
       "0                                                    @161252 What's that egg website people talk about   \n",
       "1                                               Why!🤷🏻‍♀️ #iOS11 @AppleSupport https://t.co/BXrVfeIXxq   \n",
       "2  @693975 We can assist you. We recommend updating to iOS 11.1.1 if you haven't had the chance to ...   \n",
       "3           @331912 @115955 Thats better than having an unstable connection that drops every 5-20 mins   \n",
       "4                           @VirginAmerica is probably one of the best airlines I've ever experienced.   \n",
       "\n",
       "                                                                                            text_lower  \\\n",
       "0                                                    @161252 what's that egg website people talk about   \n",
       "1                                               why!🤷🏻‍♀️ #ios11 @applesupport https://t.co/bxrvfeixxq   \n",
       "2  @693975 we can assist you. we recommend updating to ios 11.1.1 if you haven't had the chance to ...   \n",
       "3           @331912 @115955 thats better than having an unstable connection that drops every 5-20 mins   \n",
       "4                           @virginamerica is probably one of the best airlines i've ever experienced.   \n",
       "\n",
       "                                                                                          text_stemmed  \\\n",
       "0                                                       @161252 what' that egg websit peopl talk about   \n",
       "1                                               why!🤷🏻‍♀️ #ios11 @applesupport https://t.co/bxrvfeixxq   \n",
       "2  @693975 we can assist you. we recommend updat to io 11.1.1 if you haven't had the chanc to do so...   \n",
       "3                    @331912 @115955 that better than have an unstabl connect that drop everi 5-20 min   \n",
       "4                               @virginamerica is probabl one of the best airlin i'v ever experienced.   \n",
       "\n",
       "                                                                                       text_lemmatized  \n",
       "0                                                    @161252 what's that egg website people talk about  \n",
       "1                                               why!🤷🏻‍♀️ #ios11 @applesupport https://t.co/bxrvfeixxq  \n",
       "2  @693975 we can assist you. we recommend update to ios 11.1.1 if you haven't have the chance to d...  \n",
       "3                 @331912 @115955 thats well than have an unstable connection that drop every 5-20 min  \n",
       "4                            @virginamerica be probably one of the best airline i've ever experienced.  "
      ]
     },
     "execution_count": 37,
     "metadata": {},
     "output_type": "execute_result"
    }
   ],
   "source": [
    "df['text_lemmatized'] = df['text_lower'].apply(lambda text: lemmatize_words(text))\n",
    "df[['text', 'text_lower', 'text_stemmed', 'text_lemmatized']].head()"
   ]
  },
  {
   "cell_type": "markdown",
   "metadata": {},
   "source": [
    "## Removal of Emojis\n",
    "\n",
    "With more and more usage of social media platforms, there is an explosion in the usage of emojis in our day to day life as well. Probably we might need to remove these emojis for some of our textual analysis.\n",
    "\n",
    "Thanks to [this code](https://gist.github.com/slowkow/7a7f61f495e3dbb7e3d767f97bd7304b), please find below a helper function to remove emojis from our text."
   ]
  },
  {
   "cell_type": "code",
   "execution_count": 38,
   "metadata": {},
   "outputs": [],
   "source": [
    "# Reference : https://gist.github.com/slowkow/7a7f61f495e3dbb7e3d767f97bd7304b\n",
    "def remove_emoji(string: str) -> str:\n",
    "    \"\"\"Custom function to remove emojis\"\"\"\n",
    "    emoji_pattern = re.compile(\"[\"\n",
    "                           u\"\\U0001F600-\\U0001F64F\"  # emoticons\n",
    "                           u\"\\U0001F300-\\U0001F5FF\"  # symbols & pictographs\n",
    "                           u\"\\U0001F680-\\U0001F6FF\"  # transport & map symbols\n",
    "                           u\"\\U0001F1E0-\\U0001F1FF\"  # flags (iOS)\n",
    "                           u\"\\U00002702-\\U000027B0\"\n",
    "                           u\"\\U000024C2-\\U0001F251\"\n",
    "                           \"]+\", flags=re.UNICODE)\n",
    "    return emoji_pattern.sub(r'', string)"
   ]
  },
  {
   "cell_type": "code",
   "execution_count": 39,
   "metadata": {},
   "outputs": [
    {
     "data": {
      "text/plain": [
       "'game is on '"
      ]
     },
     "execution_count": 39,
     "metadata": {},
     "output_type": "execute_result"
    }
   ],
   "source": [
    "remove_emoji(\"game is on 🔥🔥\")"
   ]
  },
  {
   "cell_type": "code",
   "execution_count": 40,
   "metadata": {},
   "outputs": [
    {
     "data": {
      "text/plain": [
       "'Hilarious'"
      ]
     },
     "execution_count": 40,
     "metadata": {},
     "output_type": "execute_result"
    }
   ],
   "source": [
    "remove_emoji(\"Hilarious😂\")"
   ]
  },
  {
   "cell_type": "code",
   "execution_count": 41,
   "metadata": {},
   "outputs": [
    {
     "data": {
      "text/html": [
       "<div>\n",
       "<style scoped>\n",
       "    .dataframe tbody tr th:only-of-type {\n",
       "        vertical-align: middle;\n",
       "    }\n",
       "\n",
       "    .dataframe tbody tr th {\n",
       "        vertical-align: top;\n",
       "    }\n",
       "\n",
       "    .dataframe thead th {\n",
       "        text-align: right;\n",
       "    }\n",
       "</style>\n",
       "<table border=\"1\" class=\"dataframe\">\n",
       "  <thead>\n",
       "    <tr style=\"text-align: right;\">\n",
       "      <th></th>\n",
       "      <th>text</th>\n",
       "      <th>text_no_emoji</th>\n",
       "    </tr>\n",
       "  </thead>\n",
       "  <tbody>\n",
       "    <tr>\n",
       "      <th>0</th>\n",
       "      <td>@161252 What's that egg website people talk about</td>\n",
       "      <td>@161252 What's that egg website people talk about</td>\n",
       "    </tr>\n",
       "    <tr>\n",
       "      <th>1</th>\n",
       "      <td>Why!🤷🏻‍♀️ #iOS11 @AppleSupport https://t.co/BXrVfeIXxq</td>\n",
       "      <td>Why!🤷‍ #iOS11 @AppleSupport https://t.co/BXrVfeIXxq</td>\n",
       "    </tr>\n",
       "    <tr>\n",
       "      <th>2</th>\n",
       "      <td>@693975 We can assist you. We recommend updating to iOS 11.1.1 if you haven't had the chance to ...</td>\n",
       "      <td>@693975 We can assist you. We recommend updating to iOS 11.1.1 if you haven't had the chance to ...</td>\n",
       "    </tr>\n",
       "    <tr>\n",
       "      <th>3</th>\n",
       "      <td>@331912 @115955 Thats better than having an unstable connection that drops every 5-20 mins</td>\n",
       "      <td>@331912 @115955 Thats better than having an unstable connection that drops every 5-20 mins</td>\n",
       "    </tr>\n",
       "    <tr>\n",
       "      <th>4</th>\n",
       "      <td>@VirginAmerica is probably one of the best airlines I've ever experienced.</td>\n",
       "      <td>@VirginAmerica is probably one of the best airlines I've ever experienced.</td>\n",
       "    </tr>\n",
       "  </tbody>\n",
       "</table>\n",
       "</div>"
      ],
      "text/plain": [
       "                                                                                                  text  \\\n",
       "0                                                    @161252 What's that egg website people talk about   \n",
       "1                                               Why!🤷🏻‍♀️ #iOS11 @AppleSupport https://t.co/BXrVfeIXxq   \n",
       "2  @693975 We can assist you. We recommend updating to iOS 11.1.1 if you haven't had the chance to ...   \n",
       "3           @331912 @115955 Thats better than having an unstable connection that drops every 5-20 mins   \n",
       "4                           @VirginAmerica is probably one of the best airlines I've ever experienced.   \n",
       "\n",
       "                                                                                         text_no_emoji  \n",
       "0                                                    @161252 What's that egg website people talk about  \n",
       "1                                                  Why!🤷‍ #iOS11 @AppleSupport https://t.co/BXrVfeIXxq  \n",
       "2  @693975 We can assist you. We recommend updating to iOS 11.1.1 if you haven't had the chance to ...  \n",
       "3           @331912 @115955 Thats better than having an unstable connection that drops every 5-20 mins  \n",
       "4                           @VirginAmerica is probably one of the best airlines I've ever experienced.  "
      ]
     },
     "execution_count": 41,
     "metadata": {},
     "output_type": "execute_result"
    }
   ],
   "source": [
    "df['text_no_emoji'] = df['text'].apply(remove_emoji)\n",
    "df[['text', 'text_no_emoji']].head()"
   ]
  },
  {
   "cell_type": "markdown",
   "metadata": {},
   "source": [
    "## Removal of URLs\n",
    "\n",
    "Next preprocessing step is to remove any URLs present in the data. For example, if we are doing a twitter analysis, then there is a good chance that the tweet will have some URL in it. Probably we might need to remove them for our further analysis.\n",
    "\n",
    "We can use the below code snippet to do that"
   ]
  },
  {
   "cell_type": "code",
   "execution_count": 42,
   "metadata": {},
   "outputs": [],
   "source": [
    "def remove_urls(text: str) -> str:\n",
    "    \"\"\"Custom function to remove URLs\"\"\"\n",
    "    url_pattern = re.compile(r'https?://\\S+|www\\.\\S+')\n",
    "    \n",
    "    return url_pattern.sub(r'', text)"
   ]
  },
  {
   "cell_type": "code",
   "execution_count": 43,
   "metadata": {},
   "outputs": [
    {
     "data": {
      "text/plain": [
       "'Driverless AI NLP blog post on '"
      ]
     },
     "execution_count": 43,
     "metadata": {},
     "output_type": "execute_result"
    }
   ],
   "source": [
    "text = \"Driverless AI NLP blog post on https://www.h2o.ai/blog/detecting-sarcasm-is-difficult-but-ai-may-have-an-answer/\"\n",
    "remove_urls(text)"
   ]
  },
  {
   "cell_type": "code",
   "execution_count": 44,
   "metadata": {},
   "outputs": [
    {
     "data": {
      "text/html": [
       "<div>\n",
       "<style scoped>\n",
       "    .dataframe tbody tr th:only-of-type {\n",
       "        vertical-align: middle;\n",
       "    }\n",
       "\n",
       "    .dataframe tbody tr th {\n",
       "        vertical-align: top;\n",
       "    }\n",
       "\n",
       "    .dataframe thead th {\n",
       "        text-align: right;\n",
       "    }\n",
       "</style>\n",
       "<table border=\"1\" class=\"dataframe\">\n",
       "  <thead>\n",
       "    <tr style=\"text-align: right;\">\n",
       "      <th></th>\n",
       "      <th>text</th>\n",
       "      <th>text_no_url</th>\n",
       "    </tr>\n",
       "  </thead>\n",
       "  <tbody>\n",
       "    <tr>\n",
       "      <th>0</th>\n",
       "      <td>@161252 What's that egg website people talk about</td>\n",
       "      <td>@161252 What's that egg website people talk about</td>\n",
       "    </tr>\n",
       "    <tr>\n",
       "      <th>1</th>\n",
       "      <td>Why!🤷🏻‍♀️ #iOS11 @AppleSupport https://t.co/BXrVfeIXxq</td>\n",
       "      <td>Why!🤷🏻‍♀️ #iOS11 @AppleSupport</td>\n",
       "    </tr>\n",
       "    <tr>\n",
       "      <th>2</th>\n",
       "      <td>@693975 We can assist you. We recommend updating to iOS 11.1.1 if you haven't had the chance to ...</td>\n",
       "      <td>@693975 We can assist you. We recommend updating to iOS 11.1.1 if you haven't had the chance to ...</td>\n",
       "    </tr>\n",
       "    <tr>\n",
       "      <th>3</th>\n",
       "      <td>@331912 @115955 Thats better than having an unstable connection that drops every 5-20 mins</td>\n",
       "      <td>@331912 @115955 Thats better than having an unstable connection that drops every 5-20 mins</td>\n",
       "    </tr>\n",
       "    <tr>\n",
       "      <th>4</th>\n",
       "      <td>@VirginAmerica is probably one of the best airlines I've ever experienced.</td>\n",
       "      <td>@VirginAmerica is probably one of the best airlines I've ever experienced.</td>\n",
       "    </tr>\n",
       "  </tbody>\n",
       "</table>\n",
       "</div>"
      ],
      "text/plain": [
       "                                                                                                  text  \\\n",
       "0                                                    @161252 What's that egg website people talk about   \n",
       "1                                               Why!🤷🏻‍♀️ #iOS11 @AppleSupport https://t.co/BXrVfeIXxq   \n",
       "2  @693975 We can assist you. We recommend updating to iOS 11.1.1 if you haven't had the chance to ...   \n",
       "3           @331912 @115955 Thats better than having an unstable connection that drops every 5-20 mins   \n",
       "4                           @VirginAmerica is probably one of the best airlines I've ever experienced.   \n",
       "\n",
       "                                                                                           text_no_url  \n",
       "0                                                    @161252 What's that egg website people talk about  \n",
       "1                                                                      Why!🤷🏻‍♀️ #iOS11 @AppleSupport   \n",
       "2  @693975 We can assist you. We recommend updating to iOS 11.1.1 if you haven't had the chance to ...  \n",
       "3           @331912 @115955 Thats better than having an unstable connection that drops every 5-20 mins  \n",
       "4                           @VirginAmerica is probably one of the best airlines I've ever experienced.  "
      ]
     },
     "execution_count": 44,
     "metadata": {},
     "output_type": "execute_result"
    }
   ],
   "source": [
    "df['text_no_url'] = df['text'].apply(remove_urls)\n",
    "df[['text', 'text_no_url']].head()"
   ]
  },
  {
   "cell_type": "markdown",
   "metadata": {},
   "source": [
    "## Discussion activity:\n",
    "\n",
    "* What usecases can you think for NLP?\n",
    "    - analysis of speech - news article, transcription of speeches -- topic modelling vs topic classification\n",
    "* What role does preprocessing play in the application of NLP?"
   ]
  }
 ],
 "metadata": {
  "kernelspec": {
   "display_name": "Python 3",
   "language": "python",
   "name": "python3"
  },
  "language_info": {
   "codemirror_mode": {
    "name": "ipython",
    "version": 3
   },
   "file_extension": ".py",
   "mimetype": "text/x-python",
   "name": "python",
   "nbconvert_exporter": "python",
   "pygments_lexer": "ipython3",
   "version": "3.6.10"
  }
 },
 "nbformat": 4,
 "nbformat_minor": 4
}
